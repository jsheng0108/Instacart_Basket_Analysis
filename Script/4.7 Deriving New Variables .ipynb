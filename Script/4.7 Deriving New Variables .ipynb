{
 "cells": [
  {
   "cell_type": "code",
   "execution_count": 1,
   "id": "30aa3e8d",
   "metadata": {},
   "outputs": [],
   "source": [
    "#import library\n",
    "import pandas as pd\n",
    "import numpy as np\n",
    "import os"
   ]
  },
  {
   "cell_type": "code",
   "execution_count": 2,
   "id": "9c23fc9f",
   "metadata": {},
   "outputs": [],
   "source": [
    "#set path\n",
    "path = r'/Users/yanggao/Desktop/DAbootcamp/Python_Fundamentals_for_Data_Analysts_Achievement_4/Instacart_Basket_Analysis'"
   ]
  },
  {
   "cell_type": "code",
   "execution_count": 3,
   "id": "ea1902fd",
   "metadata": {},
   "outputs": [],
   "source": [
    "#import ords_prods_merged dataframe\n",
    "df_ords_prods_merged = pd.read_pickle(os.path.join(path, '02_Data', 'Prepared_data', 'ords_prods_merged.pkl'))"
   ]
  },
  {
   "cell_type": "code",
   "execution_count": 4,
   "id": "d21f998b",
   "metadata": {},
   "outputs": [],
   "source": [
    "df_merged_subset = df_ords_prods_merged[:1000000]"
   ]
  },
  {
   "cell_type": "code",
   "execution_count": 5,
   "id": "3fe9382d",
   "metadata": {},
   "outputs": [
    {
     "data": {
      "text/plain": [
       "(1000000, 14)"
      ]
     },
     "execution_count": 5,
     "metadata": {},
     "output_type": "execute_result"
    }
   ],
   "source": [
    "df_merged_subset.shape"
   ]
  },
  {
   "cell_type": "code",
   "execution_count": 6,
   "id": "78f86a10",
   "metadata": {},
   "outputs": [],
   "source": [
    "#define function \n",
    "def price_label(row):\n",
    "  if row['prices'] <= 5:\n",
    "    return 'Low-range product'\n",
    "  elif (row['prices'] > 5) and (row['prices'] <= 15):\n",
    "    return 'Mid-range product'\n",
    "  elif row['prices'] > 15:\n",
    "    return 'High range'\n",
    "  else: return 'Not enough data'"
   ]
  },
  {
   "cell_type": "code",
   "execution_count": 7,
   "id": "77801ce7",
   "metadata": {},
   "outputs": [
    {
     "name": "stderr",
     "output_type": "stream",
     "text": [
      "/var/folders/ny/kfp4v45n0m3_0sp_2plwjbjw0000gn/T/ipykernel_17594/3081209751.py:2: SettingWithCopyWarning: \n",
      "A value is trying to be set on a copy of a slice from a DataFrame.\n",
      "Try using .loc[row_indexer,col_indexer] = value instead\n",
      "\n",
      "See the caveats in the documentation: https://pandas.pydata.org/pandas-docs/stable/user_guide/indexing.html#returning-a-view-versus-a-copy\n",
      "  df_merged_subset['price_range'] = df_merged_subset.apply(price_label, axis =1)\n"
     ]
    }
   ],
   "source": [
    "#apply function \n",
    "df_merged_subset['price_range'] = df_merged_subset.apply(price_label, axis =1)"
   ]
  },
  {
   "cell_type": "code",
   "execution_count": 8,
   "id": "f70371a7",
   "metadata": {},
   "outputs": [
    {
     "data": {
      "text/plain": [
       "Mid-range product    879842\n",
       "Low-range product    120158\n",
       "Name: price_range, dtype: int64"
      ]
     },
     "execution_count": 8,
     "metadata": {},
     "output_type": "execute_result"
    }
   ],
   "source": [
    "df_merged_subset['price_range'].value_counts(dropna = False)"
   ]
  },
  {
   "cell_type": "code",
   "execution_count": 9,
   "id": "9c3a627b",
   "metadata": {},
   "outputs": [
    {
     "data": {
      "text/plain": [
       "15.0"
      ]
     },
     "execution_count": 9,
     "metadata": {},
     "output_type": "execute_result"
    }
   ],
   "source": [
    "df_merged_subset['prices'].max()"
   ]
  },
  {
   "cell_type": "code",
   "execution_count": 10,
   "id": "cacc17f6",
   "metadata": {},
   "outputs": [
    {
     "name": "stderr",
     "output_type": "stream",
     "text": [
      "/var/folders/ny/kfp4v45n0m3_0sp_2plwjbjw0000gn/T/ipykernel_17594/2199794417.py:1: SettingWithCopyWarning: \n",
      "A value is trying to be set on a copy of a slice from a DataFrame.\n",
      "Try using .loc[row_indexer,col_indexer] = value instead\n",
      "\n",
      "See the caveats in the documentation: https://pandas.pydata.org/pandas-docs/stable/user_guide/indexing.html#returning-a-view-versus-a-copy\n",
      "  df_merged_subset.loc[df_merged_subset['prices'] > 15, 'price_range_loc'] = 'High-range product'\n"
     ]
    }
   ],
   "source": [
    "df_merged_subset.loc[df_merged_subset['prices'] > 15, 'price_range_loc'] = 'High-range product'\n",
    "df_merged_subset.loc[(df_merged_subset['prices'] <= 15) & (df_merged_subset['prices'] > 5), 'price_range_loc'] = 'Mid-range product' \n",
    "df_merged_subset.loc[df_merged_subset['prices'] <= 5, 'price_range_loc'] = 'Low-range product'"
   ]
  },
  {
   "cell_type": "code",
   "execution_count": 11,
   "id": "ba2fa77d",
   "metadata": {},
   "outputs": [
    {
     "data": {
      "text/plain": [
       "Mid-range product    879842\n",
       "Low-range product    120158\n",
       "Name: price_range_loc, dtype: int64"
      ]
     },
     "execution_count": 11,
     "metadata": {},
     "output_type": "execute_result"
    }
   ],
   "source": [
    "df_merged_subset['price_range_loc'].value_counts(dropna=False)"
   ]
  },
  {
   "cell_type": "code",
   "execution_count": 12,
   "id": "cb4d9eef",
   "metadata": {},
   "outputs": [],
   "source": [
    "df_ords_prods_merged.loc[df_ords_prods_merged['prices'] > 15, 'price_range_loc'] = 'High-range product'\n",
    "df_ords_prods_merged.loc[(df_ords_prods_merged['prices'] <= 15) & (df_ords_prods_merged['prices'] > 5), 'price_range_loc'] = 'Mid-range product' \n",
    "df_ords_prods_merged.loc[df_ords_prods_merged['prices'] <= 5, 'price_range_loc'] = 'Low-range product'"
   ]
  },
  {
   "cell_type": "code",
   "execution_count": 13,
   "id": "dc379dc3",
   "metadata": {},
   "outputs": [
    {
     "data": {
      "text/plain": [
       "Mid-range product     22430163\n",
       "Low-range product      9603547\n",
       "High-range product      278746\n",
       "Name: price_range_loc, dtype: int64"
      ]
     },
     "execution_count": 13,
     "metadata": {},
     "output_type": "execute_result"
    }
   ],
   "source": [
    "df_ords_prods_merged['price_range_loc'].value_counts(dropna=False)"
   ]
  },
  {
   "cell_type": "code",
   "execution_count": 14,
   "id": "a36334a2",
   "metadata": {},
   "outputs": [
    {
     "data": {
      "text/plain": [
       "Index(['order_id', 'customer_id', 'order_number', 'order_day_of_week',\n",
       "       'order_time_of_day', 'days_since_prior_order', 'product_id',\n",
       "       'add_to_cart_order', 'reordered', '_merge', 'product_name', 'aisle_id',\n",
       "       'department_id', 'prices', 'price_range_loc'],\n",
       "      dtype='object')"
      ]
     },
     "execution_count": 14,
     "metadata": {},
     "output_type": "execute_result"
    }
   ],
   "source": [
    "df_ords_prods_merged.columns"
   ]
  },
  {
   "cell_type": "code",
   "execution_count": 15,
   "id": "6011ae01",
   "metadata": {},
   "outputs": [
    {
     "data": {
      "text/plain": [
       "0    6183034\n",
       "1    5643686\n",
       "6    4483111\n",
       "2    4202518\n",
       "5    4195206\n",
       "3    3830728\n",
       "4    3774173\n",
       "Name: order_day_of_week, dtype: int64"
      ]
     },
     "execution_count": 15,
     "metadata": {},
     "output_type": "execute_result"
    }
   ],
   "source": [
    "df_ords_prods_merged['order_day_of_week'].value_counts(dropna=False)"
   ]
  },
  {
   "cell_type": "code",
   "execution_count": null,
   "id": "701a1cc4",
   "metadata": {},
   "outputs": [],
   "source": [
    "result = []\n",
    "for value in df_ords_prods_merged[\"order_day_of_week\"]:\n",
    "  if value == 0:\n",
    "    result.append(\"Busiest day\")\n",
    "  elif value == 4:\n",
    "    result.append(\"Least busy\")\n",
    "  else:\n",
    "    result.append(\"Regularly busy\")"
   ]
  },
  {
   "cell_type": "code",
   "execution_count": null,
   "id": "f5ac25f9",
   "metadata": {},
   "outputs": [],
   "source": [
    "result"
   ]
  },
  {
   "cell_type": "code",
   "execution_count": null,
   "id": "00c3d7d8",
   "metadata": {},
   "outputs": [],
   "source": [
    "df_ords_prods_merged['day_of_busy']=result"
   ]
  },
  {
   "cell_type": "code",
   "execution_count": null,
   "id": "72779745",
   "metadata": {},
   "outputs": [],
   "source": [
    "df_ords_prods_merged['day_of_busy'].value_counts(dropna=False)"
   ]
  },
  {
   "cell_type": "code",
   "execution_count": null,
   "id": "0897ca7d",
   "metadata": {},
   "outputs": [],
   "source": [
    "df_ords_prods_merged.columns"
   ]
  },
  {
   "cell_type": "code",
   "execution_count": null,
   "id": "96cb8daa",
   "metadata": {},
   "outputs": [],
   "source": [
    "##Assignment 4.7"
   ]
  },
  {
   "cell_type": "code",
   "execution_count": null,
   "id": "16295a0f",
   "metadata": {},
   "outputs": [],
   "source": [
    "#1 create the “price_label” and “busiest_day” columns, already created, so just changed the columns name\n",
    "df_ords_prods_merged.rename(columns = {'price_range_loc' : 'price_label', 'day_of_busy': 'busiest_day'}, inplace = True)"
   ]
  },
  {
   "cell_type": "code",
   "execution_count": null,
   "id": "4a9f7078",
   "metadata": {},
   "outputs": [],
   "source": [
    "#2 created column has two busiest days and two least busiest days"
   ]
  },
  {
   "cell_type": "code",
   "execution_count": null,
   "id": "dcd1c086",
   "metadata": {},
   "outputs": [],
   "source": [
    "#function \n",
    "result_1 = []\n",
    "for x in df_ords_prods_merged[\"order_day_of_week\"]:\n",
    "    if x == 0 or x == 1 :\n",
    "        result_1.append('Busiest days')\n",
    "    elif x == 3 or x == 4 :\n",
    "        result_1.append('Least busiest days')\n",
    "    else :\n",
    "        result_1.append('Regularly busy days')"
   ]
  },
  {
   "cell_type": "code",
   "execution_count": null,
   "id": "22402f9e",
   "metadata": {},
   "outputs": [],
   "source": [
    "##apply functions \n",
    "df_ords_prods_merged[\"busiest_days\"]=result_1"
   ]
  },
  {
   "cell_type": "code",
   "execution_count": null,
   "id": "7c98361f",
   "metadata": {},
   "outputs": [],
   "source": [
    "df_ords_prods_merged[\"busiest_days\"].value_counts(dropna=False)"
   ]
  },
  {
   "cell_type": "markdown",
   "id": "1f99de60",
   "metadata": {},
   "source": []
  },
  {
   "cell_type": "code",
   "execution_count": null,
   "id": "0b136c09",
   "metadata": {},
   "outputs": [],
   "source": [
    "##check the value in the new column for accuracy "
   ]
  },
  {
   "cell_type": "code",
   "execution_count": null,
   "id": "89105243",
   "metadata": {},
   "outputs": [],
   "source": [
    "6183034 + 5643686"
   ]
  },
  {
   "cell_type": "code",
   "execution_count": null,
   "id": "ea3937df",
   "metadata": {},
   "outputs": [],
   "source": [
    "3830728+3774173"
   ]
  },
  {
   "cell_type": "code",
   "execution_count": null,
   "id": "fb609395",
   "metadata": {},
   "outputs": [],
   "source": [
    "#the numbers matches with the output in cell 21"
   ]
  },
  {
   "cell_type": "code",
   "execution_count": null,
   "id": "75b19740",
   "metadata": {},
   "outputs": [],
   "source": [
    "#4 Create a new column containing called “busiest_period_of_day\n",
    "df_ords_prods_merged['order_time_of_day'].value_counts(dropna=False)"
   ]
  },
  {
   "cell_type": "code",
   "execution_count": null,
   "id": "f7adfe3f",
   "metadata": {},
   "outputs": [],
   "source": [
    "#function \n",
    "result_2 = []\n",
    "for x in df_ords_prods_merged[\"order_time_of_day\"]:\n",
    "    if x >= 9 and x <=16 :\n",
    "        result_2.append('Most orders')\n",
    "    elif x <= 6 or x == 23 :\n",
    "        result_2.append('Fewest orders')\n",
    "    else :\n",
    "        result_2.append('Average orders')"
   ]
  },
  {
   "cell_type": "code",
   "execution_count": null,
   "id": "dd8eb60e",
   "metadata": {},
   "outputs": [],
   "source": [
    "#apply function to create new column \n",
    "df_ords_prods_merged[\"busiest_period_of_day\"]=result_2"
   ]
  },
  {
   "cell_type": "code",
   "execution_count": null,
   "id": "013ad5c6",
   "metadata": {},
   "outputs": [],
   "source": [
    "##5 Print the frequency for this new column\n",
    "df_ords_prods_merged[\"busiest_period_of_day\"].value_counts(dropna=False)"
   ]
  },
  {
   "cell_type": "code",
   "execution_count": null,
   "id": "6885bb29",
   "metadata": {},
   "outputs": [],
   "source": [
    "df_ords_prods_merged.to_pickle(os.path.join(path, '02_Data','Prepared_data', 'ords_prods_merged_updated.pkl'))"
   ]
  },
  {
   "cell_type": "code",
   "execution_count": null,
   "id": "2c8c2ed9",
   "metadata": {},
   "outputs": [],
   "source": []
  }
 ],
 "metadata": {
  "kernelspec": {
   "display_name": "Python 3 (ipykernel)",
   "language": "python",
   "name": "python3"
  },
  "language_info": {
   "codemirror_mode": {
    "name": "ipython",
    "version": 3
   },
   "file_extension": ".py",
   "mimetype": "text/x-python",
   "name": "python",
   "nbconvert_exporter": "python",
   "pygments_lexer": "ipython3",
   "version": "3.9.12"
  }
 },
 "nbformat": 4,
 "nbformat_minor": 5
}
