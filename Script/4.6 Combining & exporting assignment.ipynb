{
 "cells": [
  {
   "cell_type": "code",
   "execution_count": 1,
   "id": "19de2843",
   "metadata": {},
   "outputs": [],
   "source": [
    "##Assignment 4.6"
   ]
  },
  {
   "cell_type": "code",
   "execution_count": 2,
   "id": "f80d5429",
   "metadata": {},
   "outputs": [],
   "source": [
    "#import library\n",
    "import pandas as pd\n",
    "import numpy as np\n",
    "import os"
   ]
  },
  {
   "cell_type": "code",
   "execution_count": 3,
   "id": "872b543d",
   "metadata": {},
   "outputs": [],
   "source": [
    "#set path \n",
    "path = r'/Users/yanggao/Desktop/DAbootcamp/Python_Fundamentals_for_Data_Analysts_Achievement_4/Instacart_Basket_Analysis'\n"
   ]
  },
  {
   "cell_type": "code",
   "execution_count": 4,
   "id": "7c31dd6d",
   "metadata": {},
   "outputs": [],
   "source": [
    "#3 import orders_products_combined dataframe\n",
    "df_orders_products_combined = pd.read_pickle(os.path.join(path, '02_Data', 'Prepared_data', 'orders_products_combined.pkl'))"
   ]
  },
  {
   "cell_type": "code",
   "execution_count": 5,
   "id": "c433e3c6",
   "metadata": {},
   "outputs": [
    {
     "data": {
      "text/plain": [
       "(32640698, 12)"
      ]
     },
     "execution_count": 5,
     "metadata": {},
     "output_type": "execute_result"
    }
   ],
   "source": [
    "#check the shape of the imported dataframe\n",
    "df_orders_products_combined.shape"
   ]
  },
  {
   "cell_type": "code",
   "execution_count": 7,
   "id": "e6d597f4",
   "metadata": {},
   "outputs": [
    {
     "data": {
      "text/plain": [
       "Index(['order_id', 'customer_id', 'order_number', 'order_day_of_week',\n",
       "       'order_time_of_day', 'days_since_prior_order', 'user_id',\n",
       "       'orders_day_of_week', 'product_id', 'add_to_cart_order', 'reordered',\n",
       "       '_merge'],\n",
       "      dtype='object')"
      ]
     },
     "execution_count": 7,
     "metadata": {},
     "output_type": "execute_result"
    }
   ],
   "source": [
    "df_orders_products_combined.columns"
   ]
  },
  {
   "cell_type": "code",
   "execution_count": 8,
   "id": "e542a059",
   "metadata": {},
   "outputs": [],
   "source": [
    "#import products data frames \n",
    "df_prdocuts_cleaned=pd.read_csv(os.path.join(path, '02_Data', 'Prepared_data', 'products_checked.csv'), index_col = 0)"
   ]
  },
  {
   "cell_type": "code",
   "execution_count": 9,
   "id": "bf465cba",
   "metadata": {},
   "outputs": [
    {
     "data": {
      "text/plain": [
       "Index(['product_id', 'product_name', 'aisle_id', 'department_id', 'prices'], dtype='object')"
      ]
     },
     "execution_count": 9,
     "metadata": {},
     "output_type": "execute_result"
    }
   ],
   "source": [
    "df_prdocuts_cleaned.columns"
   ]
  },
  {
   "cell_type": "code",
   "execution_count": 10,
   "id": "323b076f",
   "metadata": {},
   "outputs": [],
   "source": [
    "#5 Determine a suitable way to combine the orders_products_combined dataframe with your products data set"
   ]
  },
  {
   "cell_type": "code",
   "execution_count": 11,
   "id": "a5ff829e",
   "metadata": {},
   "outputs": [],
   "source": [
    "## change data type "
   ]
  },
  {
   "cell_type": "code",
   "execution_count": 12,
   "id": "c8ae3882",
   "metadata": {},
   "outputs": [
    {
     "name": "stdout",
     "output_type": "stream",
     "text": [
      "<class 'pandas.core.frame.DataFrame'>\n",
      "Int64Index: 32640698 entries, 0 to 32640697\n",
      "Data columns (total 12 columns):\n",
      " #   Column                  Dtype   \n",
      "---  ------                  -----   \n",
      " 0   order_id                int32   \n",
      " 1   customer_id             int64   \n",
      " 2   order_number            int8    \n",
      " 3   order_day_of_week       int64   \n",
      " 4   order_time_of_day       int8    \n",
      " 5   days_since_prior_order  float16 \n",
      " 6   user_id                 int32   \n",
      " 7   orders_day_of_week      int8    \n",
      " 8   product_id              float64 \n",
      " 9   add_to_cart_order       float64 \n",
      " 10  reordered               float64 \n",
      " 11  _merge                  category\n",
      "dtypes: category(1), float16(1), float64(3), int32(2), int64(2), int8(3)\n",
      "memory usage: 1.9 GB\n"
     ]
    }
   ],
   "source": [
    "df_orders_products_combined.info()"
   ]
  },
  {
   "cell_type": "code",
   "execution_count": 15,
   "id": "f3533055",
   "metadata": {},
   "outputs": [
    {
     "data": {
      "text/html": [
       "<div>\n",
       "<style scoped>\n",
       "    .dataframe tbody tr th:only-of-type {\n",
       "        vertical-align: middle;\n",
       "    }\n",
       "\n",
       "    .dataframe tbody tr th {\n",
       "        vertical-align: top;\n",
       "    }\n",
       "\n",
       "    .dataframe thead th {\n",
       "        text-align: right;\n",
       "    }\n",
       "</style>\n",
       "<table border=\"1\" class=\"dataframe\">\n",
       "  <thead>\n",
       "    <tr style=\"text-align: right;\">\n",
       "      <th></th>\n",
       "      <th>order_id</th>\n",
       "      <th>customer_id</th>\n",
       "      <th>order_number</th>\n",
       "      <th>order_day_of_week</th>\n",
       "      <th>order_time_of_day</th>\n",
       "      <th>days_since_prior_order</th>\n",
       "      <th>user_id</th>\n",
       "      <th>orders_day_of_week</th>\n",
       "      <th>product_id</th>\n",
       "      <th>add_to_cart_order</th>\n",
       "      <th>reordered</th>\n",
       "      <th>_merge</th>\n",
       "    </tr>\n",
       "  </thead>\n",
       "  <tbody>\n",
       "    <tr>\n",
       "      <th>0</th>\n",
       "      <td>2539329</td>\n",
       "      <td>1</td>\n",
       "      <td>1</td>\n",
       "      <td>2</td>\n",
       "      <td>8</td>\n",
       "      <td>NaN</td>\n",
       "      <td>1</td>\n",
       "      <td>2</td>\n",
       "      <td>196.0</td>\n",
       "      <td>1.0</td>\n",
       "      <td>0.0</td>\n",
       "      <td>both</td>\n",
       "    </tr>\n",
       "    <tr>\n",
       "      <th>1</th>\n",
       "      <td>2539329</td>\n",
       "      <td>1</td>\n",
       "      <td>1</td>\n",
       "      <td>2</td>\n",
       "      <td>8</td>\n",
       "      <td>NaN</td>\n",
       "      <td>1</td>\n",
       "      <td>2</td>\n",
       "      <td>14084.0</td>\n",
       "      <td>2.0</td>\n",
       "      <td>0.0</td>\n",
       "      <td>both</td>\n",
       "    </tr>\n",
       "    <tr>\n",
       "      <th>2</th>\n",
       "      <td>2539329</td>\n",
       "      <td>1</td>\n",
       "      <td>1</td>\n",
       "      <td>2</td>\n",
       "      <td>8</td>\n",
       "      <td>NaN</td>\n",
       "      <td>1</td>\n",
       "      <td>2</td>\n",
       "      <td>12427.0</td>\n",
       "      <td>3.0</td>\n",
       "      <td>0.0</td>\n",
       "      <td>both</td>\n",
       "    </tr>\n",
       "    <tr>\n",
       "      <th>3</th>\n",
       "      <td>2539329</td>\n",
       "      <td>1</td>\n",
       "      <td>1</td>\n",
       "      <td>2</td>\n",
       "      <td>8</td>\n",
       "      <td>NaN</td>\n",
       "      <td>1</td>\n",
       "      <td>2</td>\n",
       "      <td>26088.0</td>\n",
       "      <td>4.0</td>\n",
       "      <td>0.0</td>\n",
       "      <td>both</td>\n",
       "    </tr>\n",
       "    <tr>\n",
       "      <th>4</th>\n",
       "      <td>2539329</td>\n",
       "      <td>1</td>\n",
       "      <td>1</td>\n",
       "      <td>2</td>\n",
       "      <td>8</td>\n",
       "      <td>NaN</td>\n",
       "      <td>1</td>\n",
       "      <td>2</td>\n",
       "      <td>26405.0</td>\n",
       "      <td>5.0</td>\n",
       "      <td>0.0</td>\n",
       "      <td>both</td>\n",
       "    </tr>\n",
       "  </tbody>\n",
       "</table>\n",
       "</div>"
      ],
      "text/plain": [
       "   order_id  customer_id  order_number  order_day_of_week  order_time_of_day  \\\n",
       "0   2539329            1             1                  2                  8   \n",
       "1   2539329            1             1                  2                  8   \n",
       "2   2539329            1             1                  2                  8   \n",
       "3   2539329            1             1                  2                  8   \n",
       "4   2539329            1             1                  2                  8   \n",
       "\n",
       "   days_since_prior_order  user_id  orders_day_of_week  product_id  \\\n",
       "0                     NaN        1                   2       196.0   \n",
       "1                     NaN        1                   2     14084.0   \n",
       "2                     NaN        1                   2     12427.0   \n",
       "3                     NaN        1                   2     26088.0   \n",
       "4                     NaN        1                   2     26405.0   \n",
       "\n",
       "   add_to_cart_order  reordered _merge  \n",
       "0                1.0        0.0   both  \n",
       "1                2.0        0.0   both  \n",
       "2                3.0        0.0   both  \n",
       "3                4.0        0.0   both  \n",
       "4                5.0        0.0   both  "
      ]
     },
     "execution_count": 15,
     "metadata": {},
     "output_type": "execute_result"
    }
   ],
   "source": [
    "df_orders_products_combined.head()"
   ]
  },
  {
   "cell_type": "code",
   "execution_count": 16,
   "id": "1bc3a4d3",
   "metadata": {},
   "outputs": [],
   "source": [
    "df_orders_products_combined.drop(columns={'user_id', 'orders_day_of_week'}, inplace=True)"
   ]
  },
  {
   "cell_type": "code",
   "execution_count": 17,
   "id": "24d9ace8",
   "metadata": {},
   "outputs": [
    {
     "name": "stdout",
     "output_type": "stream",
     "text": [
      "<class 'pandas.core.frame.DataFrame'>\n",
      "Int64Index: 32640698 entries, 0 to 32640697\n",
      "Data columns (total 10 columns):\n",
      " #   Column                  Dtype   \n",
      "---  ------                  -----   \n",
      " 0   order_id                int32   \n",
      " 1   customer_id             int32   \n",
      " 2   order_number            int8    \n",
      " 3   order_day_of_week       int8    \n",
      " 4   order_time_of_day       int8    \n",
      " 5   days_since_prior_order  float16 \n",
      " 6   product_id              float64 \n",
      " 7   add_to_cart_order       float64 \n",
      " 8   reordered               float64 \n",
      " 9   _merge                  category\n",
      "dtypes: category(1), float16(1), float64(3), int32(2), int8(3)\n",
      "memory usage: 1.4 GB\n"
     ]
    }
   ],
   "source": [
    "df_orders_products_combined.info()"
   ]
  },
  {
   "cell_type": "code",
   "execution_count": 22,
   "id": "14d75726",
   "metadata": {},
   "outputs": [],
   "source": [
    "df_orders_products_combined['order_id']=df_orders_products_combined['order_id'].astype('int32')\n",
    "df_orders_products_combined['customer_id'] = df_orders_products_combined['customer_id'].astype('int32')\n",
    "df_orders_products_combined['order_number']=df_orders_products_combined['order_number'].astype('int8')\n",
    "df_orders_products_combined['order_day_of_week']=df_orders_products_combined['order_day_of_week'].astype('int8')\n",
    "df_orders_products_combined['order_time_of_day']=df_orders_products_combined['order_time_of_day'].astype('int8')\n",
    "df_orders_products_combined['days_since_prior_order']=df_orders_products_combined['days_since_prior_order'].astype('float16')\n",
    "df_orders_products_combined['product_id'] =df_orders_products_combined['product_id'].astype('float16')\n",
    "df_orders_products_combined['reordered']=df_orders_products_combined['reordered'].astype('float16')\n",
    "df_orders_products_combined['add_to_cart_order']=df_orders_products_combined['add_to_cart_order'].astype('float16')"
   ]
  },
  {
   "cell_type": "code",
   "execution_count": 23,
   "id": "0b238970",
   "metadata": {},
   "outputs": [
    {
     "name": "stdout",
     "output_type": "stream",
     "text": [
      "<class 'pandas.core.frame.DataFrame'>\n",
      "Int64Index: 32640698 entries, 0 to 32640697\n",
      "Data columns (total 10 columns):\n",
      " #   Column                  Dtype   \n",
      "---  ------                  -----   \n",
      " 0   order_id                int32   \n",
      " 1   customer_id             int32   \n",
      " 2   order_number            int8    \n",
      " 3   order_day_of_week       int8    \n",
      " 4   order_time_of_day       int8    \n",
      " 5   days_since_prior_order  float16 \n",
      " 6   product_id              float16 \n",
      " 7   add_to_cart_order       float16 \n",
      " 8   reordered               float16 \n",
      " 9   _merge                  category\n",
      "dtypes: category(1), float16(4), int32(2), int8(3)\n",
      "memory usage: 871.6 MB\n"
     ]
    }
   ],
   "source": [
    "df_orders_products_combined.info()"
   ]
  },
  {
   "cell_type": "code",
   "execution_count": 24,
   "id": "6807e613",
   "metadata": {},
   "outputs": [
    {
     "name": "stdout",
     "output_type": "stream",
     "text": [
      "<class 'pandas.core.frame.DataFrame'>\n",
      "Int64Index: 49672 entries, 0 to 49692\n",
      "Data columns (total 5 columns):\n",
      " #   Column         Non-Null Count  Dtype  \n",
      "---  ------         --------------  -----  \n",
      " 0   product_id     49672 non-null  int64  \n",
      " 1   product_name   49672 non-null  object \n",
      " 2   aisle_id       49672 non-null  int64  \n",
      " 3   department_id  49672 non-null  int64  \n",
      " 4   prices         49672 non-null  float64\n",
      "dtypes: float64(1), int64(3), object(1)\n",
      "memory usage: 2.3+ MB\n"
     ]
    }
   ],
   "source": [
    "df_prdocuts_cleaned.info()"
   ]
  },
  {
   "cell_type": "code",
   "execution_count": 25,
   "id": "9fd377e4",
   "metadata": {},
   "outputs": [],
   "source": [
    "df_prdocuts_cleaned['product_id']=df_prdocuts_cleaned['product_id'].astype('int32')\n",
    "df_prdocuts_cleaned['aisle_id']=df_prdocuts_cleaned['aisle_id'].astype('int32')\n",
    "df_prdocuts_cleaned['department_id']=df_prdocuts_cleaned['department_id'].astype('int32')\n",
    "df_prdocuts_cleaned['prices']=df_prdocuts_cleaned['prices'].astype('float16')"
   ]
  },
  {
   "cell_type": "code",
   "execution_count": 26,
   "id": "afde3eff",
   "metadata": {},
   "outputs": [
    {
     "name": "stdout",
     "output_type": "stream",
     "text": [
      "<class 'pandas.core.frame.DataFrame'>\n",
      "Int64Index: 49672 entries, 0 to 49692\n",
      "Data columns (total 5 columns):\n",
      " #   Column         Non-Null Count  Dtype  \n",
      "---  ------         --------------  -----  \n",
      " 0   product_id     49672 non-null  int32  \n",
      " 1   product_name   49672 non-null  object \n",
      " 2   aisle_id       49672 non-null  int32  \n",
      " 3   department_id  49672 non-null  int32  \n",
      " 4   prices         49672 non-null  float16\n",
      "dtypes: float16(1), int32(3), object(1)\n",
      "memory usage: 1.4+ MB\n"
     ]
    }
   ],
   "source": [
    "df_prdocuts_cleaned.info()"
   ]
  },
  {
   "cell_type": "code",
   "execution_count": 27,
   "id": "c416414e",
   "metadata": {},
   "outputs": [],
   "source": [
    "##since we have common column and for the two dataframes, the number of columns are not the same, so we'll use the merge()function, and the common column is product_id"
   ]
  },
  {
   "cell_type": "code",
   "execution_count": 32,
   "id": "28a4b062",
   "metadata": {
    "scrolled": true
   },
   "outputs": [],
   "source": [
    "df_ords_prods_merge = df_orders_products_combined.merge(df_prdocuts_cleaned, on = 'product_id')"
   ]
  },
  {
   "cell_type": "code",
   "execution_count": 33,
   "id": "fd729095",
   "metadata": {},
   "outputs": [
    {
     "data": {
      "text/html": [
       "<div>\n",
       "<style scoped>\n",
       "    .dataframe tbody tr th:only-of-type {\n",
       "        vertical-align: middle;\n",
       "    }\n",
       "\n",
       "    .dataframe tbody tr th {\n",
       "        vertical-align: top;\n",
       "    }\n",
       "\n",
       "    .dataframe thead th {\n",
       "        text-align: right;\n",
       "    }\n",
       "</style>\n",
       "<table border=\"1\" class=\"dataframe\">\n",
       "  <thead>\n",
       "    <tr style=\"text-align: right;\">\n",
       "      <th></th>\n",
       "      <th>order_id</th>\n",
       "      <th>customer_id</th>\n",
       "      <th>order_number</th>\n",
       "      <th>order_day_of_week</th>\n",
       "      <th>order_time_of_day</th>\n",
       "      <th>days_since_prior_order</th>\n",
       "      <th>product_id</th>\n",
       "      <th>add_to_cart_order</th>\n",
       "      <th>reordered</th>\n",
       "      <th>_merge</th>\n",
       "      <th>product_name</th>\n",
       "      <th>aisle_id</th>\n",
       "      <th>department_id</th>\n",
       "      <th>prices</th>\n",
       "    </tr>\n",
       "  </thead>\n",
       "  <tbody>\n",
       "    <tr>\n",
       "      <th>0</th>\n",
       "      <td>2539329</td>\n",
       "      <td>1</td>\n",
       "      <td>1</td>\n",
       "      <td>2</td>\n",
       "      <td>8</td>\n",
       "      <td>NaN</td>\n",
       "      <td>196.0</td>\n",
       "      <td>1.0</td>\n",
       "      <td>0.0</td>\n",
       "      <td>both</td>\n",
       "      <td>Soda</td>\n",
       "      <td>77</td>\n",
       "      <td>7</td>\n",
       "      <td>9.0</td>\n",
       "    </tr>\n",
       "    <tr>\n",
       "      <th>1</th>\n",
       "      <td>2398795</td>\n",
       "      <td>1</td>\n",
       "      <td>2</td>\n",
       "      <td>3</td>\n",
       "      <td>7</td>\n",
       "      <td>15.0</td>\n",
       "      <td>196.0</td>\n",
       "      <td>1.0</td>\n",
       "      <td>1.0</td>\n",
       "      <td>both</td>\n",
       "      <td>Soda</td>\n",
       "      <td>77</td>\n",
       "      <td>7</td>\n",
       "      <td>9.0</td>\n",
       "    </tr>\n",
       "    <tr>\n",
       "      <th>2</th>\n",
       "      <td>473747</td>\n",
       "      <td>1</td>\n",
       "      <td>3</td>\n",
       "      <td>3</td>\n",
       "      <td>12</td>\n",
       "      <td>21.0</td>\n",
       "      <td>196.0</td>\n",
       "      <td>1.0</td>\n",
       "      <td>1.0</td>\n",
       "      <td>both</td>\n",
       "      <td>Soda</td>\n",
       "      <td>77</td>\n",
       "      <td>7</td>\n",
       "      <td>9.0</td>\n",
       "    </tr>\n",
       "    <tr>\n",
       "      <th>3</th>\n",
       "      <td>2254736</td>\n",
       "      <td>1</td>\n",
       "      <td>4</td>\n",
       "      <td>4</td>\n",
       "      <td>7</td>\n",
       "      <td>29.0</td>\n",
       "      <td>196.0</td>\n",
       "      <td>1.0</td>\n",
       "      <td>1.0</td>\n",
       "      <td>both</td>\n",
       "      <td>Soda</td>\n",
       "      <td>77</td>\n",
       "      <td>7</td>\n",
       "      <td>9.0</td>\n",
       "    </tr>\n",
       "    <tr>\n",
       "      <th>4</th>\n",
       "      <td>431534</td>\n",
       "      <td>1</td>\n",
       "      <td>5</td>\n",
       "      <td>4</td>\n",
       "      <td>15</td>\n",
       "      <td>28.0</td>\n",
       "      <td>196.0</td>\n",
       "      <td>1.0</td>\n",
       "      <td>1.0</td>\n",
       "      <td>both</td>\n",
       "      <td>Soda</td>\n",
       "      <td>77</td>\n",
       "      <td>7</td>\n",
       "      <td>9.0</td>\n",
       "    </tr>\n",
       "  </tbody>\n",
       "</table>\n",
       "</div>"
      ],
      "text/plain": [
       "   order_id  customer_id  order_number  order_day_of_week  order_time_of_day  \\\n",
       "0   2539329            1             1                  2                  8   \n",
       "1   2398795            1             2                  3                  7   \n",
       "2    473747            1             3                  3                 12   \n",
       "3   2254736            1             4                  4                  7   \n",
       "4    431534            1             5                  4                 15   \n",
       "\n",
       "   days_since_prior_order  product_id  add_to_cart_order  reordered _merge  \\\n",
       "0                     NaN       196.0                1.0        0.0   both   \n",
       "1                    15.0       196.0                1.0        1.0   both   \n",
       "2                    21.0       196.0                1.0        1.0   both   \n",
       "3                    29.0       196.0                1.0        1.0   both   \n",
       "4                    28.0       196.0                1.0        1.0   both   \n",
       "\n",
       "  product_name  aisle_id  department_id  prices  \n",
       "0         Soda        77              7     9.0  \n",
       "1         Soda        77              7     9.0  \n",
       "2         Soda        77              7     9.0  \n",
       "3         Soda        77              7     9.0  \n",
       "4         Soda        77              7     9.0  "
      ]
     },
     "execution_count": 33,
     "metadata": {},
     "output_type": "execute_result"
    }
   ],
   "source": [
    "df_ords_prods_merge.head()"
   ]
  },
  {
   "cell_type": "code",
   "execution_count": 34,
   "id": "054c10e5",
   "metadata": {},
   "outputs": [
    {
     "data": {
      "text/plain": [
       "both          32312456\n",
       "left_only            0\n",
       "right_only           0\n",
       "Name: _merge, dtype: int64"
      ]
     },
     "execution_count": 34,
     "metadata": {},
     "output_type": "execute_result"
    }
   ],
   "source": [
    "df_ords_prods_merge['_merge'].value_counts()"
   ]
  },
  {
   "cell_type": "code",
   "execution_count": 35,
   "id": "cf31ad22",
   "metadata": {},
   "outputs": [],
   "source": [
    "df_ords_prods_merge.to_pickle(os.path.join(path,'02_Data', 'Prepared_data', 'ords_prods_merged.pkl'))"
   ]
  },
  {
   "cell_type": "code",
   "execution_count": null,
   "id": "b0ba35fc",
   "metadata": {},
   "outputs": [],
   "source": []
  }
 ],
 "metadata": {
  "kernelspec": {
   "display_name": "Python 3 (ipykernel)",
   "language": "python",
   "name": "python3"
  },
  "language_info": {
   "codemirror_mode": {
    "name": "ipython",
    "version": 3
   },
   "file_extension": ".py",
   "mimetype": "text/x-python",
   "name": "python",
   "nbconvert_exporter": "python",
   "pygments_lexer": "ipython3",
   "version": "3.9.12"
  }
 },
 "nbformat": 4,
 "nbformat_minor": 5
}
