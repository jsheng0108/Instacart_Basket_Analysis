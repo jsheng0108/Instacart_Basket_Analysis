{
 "cells": [
  {
   "cell_type": "code",
   "execution_count": 1,
   "id": "11ca2068",
   "metadata": {},
   "outputs": [],
   "source": [
    "#import libraries \n",
    "import pandas as pd\n",
    "import numpy as np\n",
    "import os\n",
    "import matplotlib.pyplot as plt\n",
    "import seaborn as sns\n",
    "import scipy"
   ]
  },
  {
   "cell_type": "code",
   "execution_count": 2,
   "id": "ff72e510",
   "metadata": {},
   "outputs": [],
   "source": [
    "#set path \n",
    "path = r'/Users/yanggao/Desktop/DAbootcamp/Python_Fundamentals_for_Data_Analysts_Achievement_4/Instacart_Basket_Analysis'"
   ]
  },
  {
   "cell_type": "code",
   "execution_count": 3,
   "id": "1d452cfb",
   "metadata": {},
   "outputs": [],
   "source": [
    "#import dataframe\n",
    "ords_prods_customer_merge = pd.read_pickle(os.path.join(path, '02_Data', 'Prepared_data', 'ords_prods_customer_merge.pkl'))"
   ]
  },
  {
   "cell_type": "code",
   "execution_count": 4,
   "id": "cf383276",
   "metadata": {},
   "outputs": [],
   "source": [
    "#2 ANY PII data security issue need to be addressed?"
   ]
  },
  {
   "cell_type": "code",
   "execution_count": 5,
   "id": "59d17d6e",
   "metadata": {},
   "outputs": [
    {
     "data": {
      "text/plain": [
       "Index(['order_id', 'customer_id', 'order_number', 'order_day_of_week',\n",
       "       'order_hour_of_day', 'days_since_prior_order', 'product_id',\n",
       "       'add_to_cart_order', 'reordered', '_merge', 'product_name', 'aisle_id',\n",
       "       'department_id', 'prices', 'price_range_loc', 'busiest_day',\n",
       "       'busiest_period_of_day', 'max_order', 'loyalty_flag', 'avg_price',\n",
       "       'Spending_flag', 'median_order_duration', 'frequency_flag',\n",
       "       'first_name', 'last_name', 'gender', 'state', 'age', 'date_joined',\n",
       "       'num_of_dependants', 'marital_status', 'income'],\n",
       "      dtype='object')"
      ]
     },
     "execution_count": 5,
     "metadata": {},
     "output_type": "execute_result"
    }
   ],
   "source": [
    "ords_prods_customer_merge.columns"
   ]
  },
  {
   "cell_type": "code",
   "execution_count": 6,
   "id": "9fa3f832",
   "metadata": {},
   "outputs": [],
   "source": [
    "#2 answer: I dont think there should be any data securtiy issues here, since we don't have any sensitive private information like SSN and birthday"
   ]
  },
  {
   "cell_type": "code",
   "execution_count": 7,
   "id": "863335b4",
   "metadata": {},
   "outputs": [],
   "source": [
    "#3 customer behavior in different geographic areas"
   ]
  },
  {
   "cell_type": "code",
   "execution_count": 8,
   "id": "38aae269",
   "metadata": {},
   "outputs": [],
   "source": [
    "#3a. created different regions based on the Wiki article\n",
    "Northeast=['Maine','New Hampshire','Vermont','Massachusetts','Rhode Island','Connecticut','New York','Pennsylvania'\n",
    "        ,'New Jersey']\n",
    "Midwest=['Wisconsin','Michigan','Illinois','Indiana','Ohio','North Dakota','South Dakota','Nebraska','Kansas'\n",
    "         ,'Minnesota','Iowa','Missouri']\n",
    "South=['Delaware','Maryland','District of Columbia','Virginia','West Virginia','North Carolina','South Carolina'\n",
    "       ,'Georgia','Florida','Kentucky','Tennessee','Mississippi','Alabama','Oklahoma','Texas','Arkansas','Louisiana']\n",
    "West=['Idaho','Montana','Wyoming','Nevada','Utah','Colorado','Arizona','New Mexico','Alaska','Washington','Oregon',\n",
    "      'California','Hawaii']"
   ]
  },
  {
   "cell_type": "code",
   "execution_count": 9,
   "id": "8fc7a5dc",
   "metadata": {},
   "outputs": [],
   "source": [
    "ords_prods_customer_merge.loc[ords_prods_customer_merge['state'].isin(Northeast), 'region']='Northeaset'\n",
    "ords_prods_customer_merge.loc[ords_prods_customer_merge['state'].isin(Midwest), 'region']='Midwest'\n",
    "ords_prods_customer_merge.loc[ords_prods_customer_merge['state'].isin(South), 'region']='South'\n",
    "ords_prods_customer_merge.loc[ords_prods_customer_merge['state'].isin(West), 'region']='West'"
   ]
  },
  {
   "cell_type": "code",
   "execution_count": 10,
   "id": "36910ab5",
   "metadata": {},
   "outputs": [
    {
     "data": {
      "text/plain": [
       "South         10791885\n",
       "West           8292913\n",
       "Midwest        7597325\n",
       "Northeaset     5722736\n",
       "Name: region, dtype: int64"
      ]
     },
     "execution_count": 10,
     "metadata": {},
     "output_type": "execute_result"
    }
   ],
   "source": [
    "#frequency check \n",
    "ords_prods_customer_merge['region'].value_counts(dropna=False)"
   ]
  },
  {
   "cell_type": "code",
   "execution_count": 11,
   "id": "141b9fcd",
   "metadata": {},
   "outputs": [
    {
     "data": {
      "text/html": [
       "<div>\n",
       "<style scoped>\n",
       "    .dataframe tbody tr th:only-of-type {\n",
       "        vertical-align: middle;\n",
       "    }\n",
       "\n",
       "    .dataframe tbody tr th {\n",
       "        vertical-align: top;\n",
       "    }\n",
       "\n",
       "    .dataframe thead th {\n",
       "        text-align: right;\n",
       "    }\n",
       "</style>\n",
       "<table border=\"1\" class=\"dataframe\">\n",
       "  <thead>\n",
       "    <tr style=\"text-align: right;\">\n",
       "      <th>Spending_flag</th>\n",
       "      <th>High Spender</th>\n",
       "      <th>Low Spender</th>\n",
       "    </tr>\n",
       "    <tr>\n",
       "      <th>region</th>\n",
       "      <th></th>\n",
       "      <th></th>\n",
       "    </tr>\n",
       "  </thead>\n",
       "  <tbody>\n",
       "    <tr>\n",
       "      <th>Midwest</th>\n",
       "      <td>155975</td>\n",
       "      <td>7441350</td>\n",
       "    </tr>\n",
       "    <tr>\n",
       "      <th>Northeaset</th>\n",
       "      <td>108225</td>\n",
       "      <td>5614511</td>\n",
       "    </tr>\n",
       "    <tr>\n",
       "      <th>South</th>\n",
       "      <td>209691</td>\n",
       "      <td>10582194</td>\n",
       "    </tr>\n",
       "    <tr>\n",
       "      <th>West</th>\n",
       "      <td>160354</td>\n",
       "      <td>8132559</td>\n",
       "    </tr>\n",
       "  </tbody>\n",
       "</table>\n",
       "</div>"
      ],
      "text/plain": [
       "Spending_flag  High Spender  Low Spender\n",
       "region                                  \n",
       "Midwest              155975      7441350\n",
       "Northeaset           108225      5614511\n",
       "South                209691     10582194\n",
       "West                 160354      8132559"
      ]
     },
     "execution_count": 11,
     "metadata": {},
     "output_type": "execute_result"
    }
   ],
   "source": [
    "#3b spending habits between the different U.S. regions using crosstab\n",
    "crosstab_spending_region = pd.crosstab(ords_prods_customer_merge['region'], ords_prods_customer_merge['Spending_flag'], dropna = False)\n",
    "crosstab_spending_region"
   ]
  },
  {
   "cell_type": "code",
   "execution_count": 12,
   "id": "fd67b1a3",
   "metadata": {},
   "outputs": [],
   "source": [
    "# every regions has much more low spenders than high spenders"
   ]
  },
  {
   "cell_type": "code",
   "execution_count": 13,
   "id": "9eca139d",
   "metadata": {},
   "outputs": [],
   "source": [
    "##Merge dataframe with Department info\n",
    "#import department df \n",
    "df_department=pd.read_csv(os.path.join(path, '02_Data', 'Prepared_data', 'department_checked.csv'), index_col= False)"
   ]
  },
  {
   "cell_type": "code",
   "execution_count": 14,
   "id": "a261ee52",
   "metadata": {},
   "outputs": [
    {
     "data": {
      "text/html": [
       "<div>\n",
       "<style scoped>\n",
       "    .dataframe tbody tr th:only-of-type {\n",
       "        vertical-align: middle;\n",
       "    }\n",
       "\n",
       "    .dataframe tbody tr th {\n",
       "        vertical-align: top;\n",
       "    }\n",
       "\n",
       "    .dataframe thead th {\n",
       "        text-align: right;\n",
       "    }\n",
       "</style>\n",
       "<table border=\"1\" class=\"dataframe\">\n",
       "  <thead>\n",
       "    <tr style=\"text-align: right;\">\n",
       "      <th></th>\n",
       "      <th>Unnamed: 0</th>\n",
       "      <th>department</th>\n",
       "    </tr>\n",
       "  </thead>\n",
       "  <tbody>\n",
       "    <tr>\n",
       "      <th>0</th>\n",
       "      <td>1</td>\n",
       "      <td>frozen</td>\n",
       "    </tr>\n",
       "    <tr>\n",
       "      <th>1</th>\n",
       "      <td>2</td>\n",
       "      <td>other</td>\n",
       "    </tr>\n",
       "    <tr>\n",
       "      <th>2</th>\n",
       "      <td>3</td>\n",
       "      <td>bakery</td>\n",
       "    </tr>\n",
       "    <tr>\n",
       "      <th>3</th>\n",
       "      <td>4</td>\n",
       "      <td>produce</td>\n",
       "    </tr>\n",
       "    <tr>\n",
       "      <th>4</th>\n",
       "      <td>5</td>\n",
       "      <td>alcohol</td>\n",
       "    </tr>\n",
       "  </tbody>\n",
       "</table>\n",
       "</div>"
      ],
      "text/plain": [
       "   Unnamed: 0 department\n",
       "0           1     frozen\n",
       "1           2      other\n",
       "2           3     bakery\n",
       "3           4    produce\n",
       "4           5    alcohol"
      ]
     },
     "execution_count": 14,
     "metadata": {},
     "output_type": "execute_result"
    }
   ],
   "source": [
    "df_department.head()"
   ]
  },
  {
   "cell_type": "code",
   "execution_count": 16,
   "id": "27be9d62",
   "metadata": {},
   "outputs": [],
   "source": [
    "#rename \n",
    "df_department.rename(columns={'Unnamed: 0':'department_id'}, inplace=True)"
   ]
  },
  {
   "cell_type": "code",
   "execution_count": 18,
   "id": "2781757d",
   "metadata": {},
   "outputs": [],
   "source": [
    "#merge two df with \"department_id\"\n",
    "df_merged = ords_prods_customer_merge.merge(df_department, on ='department_id')"
   ]
  },
  {
   "cell_type": "code",
   "execution_count": 19,
   "id": "ff9ffb05",
   "metadata": {},
   "outputs": [
    {
     "data": {
      "text/plain": [
       "Index(['order_id', 'customer_id', 'order_number', 'order_day_of_week',\n",
       "       'order_hour_of_day', 'days_since_prior_order', 'product_id',\n",
       "       'add_to_cart_order', 'reordered', '_merge', 'product_name', 'aisle_id',\n",
       "       'department_id', 'prices', 'price_range_loc', 'busiest_day',\n",
       "       'busiest_period_of_day', 'max_order', 'loyalty_flag', 'avg_price',\n",
       "       'Spending_flag', 'median_order_duration', 'frequency_flag',\n",
       "       'first_name', 'last_name', 'gender', 'state', 'age', 'date_joined',\n",
       "       'num_of_dependants', 'marital_status', 'income', 'region',\n",
       "       'department'],\n",
       "      dtype='object')"
      ]
     },
     "execution_count": 19,
     "metadata": {},
     "output_type": "execute_result"
    }
   ],
   "source": [
    "df_merged.columns"
   ]
  },
  {
   "cell_type": "code",
   "execution_count": 20,
   "id": "5e5c4b2f",
   "metadata": {},
   "outputs": [
    {
     "data": {
      "text/plain": [
       "(32404859, 34)"
      ]
     },
     "execution_count": 20,
     "metadata": {},
     "output_type": "execute_result"
    }
   ],
   "source": [
    "df_merged.shape"
   ]
  },
  {
   "cell_type": "code",
   "execution_count": 22,
   "id": "ee20d298",
   "metadata": {},
   "outputs": [
    {
     "data": {
      "text/plain": [
       "high    30964564\n",
       "low      1440295\n",
       "Name: activity, dtype: int64"
      ]
     },
     "execution_count": 22,
     "metadata": {},
     "output_type": "execute_result"
    }
   ],
   "source": [
    "#4 Create an exclusion flag for low-activity customers (customers with less than 5 orders) and exclude them from the data\n",
    "# Create activity flag and frequency check \n",
    "df_merged.loc[df_merged['max_order']>=5, 'activity']='high'\n",
    "df_merged.loc[df_merged['max_order']<5, 'activity']='low'\n",
    "df_merged['activity'].value_counts(dropna=False)"
   ]
  },
  {
   "cell_type": "code",
   "execution_count": 24,
   "id": "d6335696",
   "metadata": {},
   "outputs": [],
   "source": [
    "#create inactive_customer df\n",
    "inactive_customer = df_merged[df_merged['activity']=='low']"
   ]
  },
  {
   "cell_type": "code",
   "execution_count": 25,
   "id": "5e3eaa91",
   "metadata": {},
   "outputs": [
    {
     "data": {
      "text/plain": [
       "low    1440295\n",
       "Name: activity, dtype: int64"
      ]
     },
     "execution_count": 25,
     "metadata": {},
     "output_type": "execute_result"
    }
   ],
   "source": [
    "inactive_customer['activity'].value_counts(dropna=False)"
   ]
  },
  {
   "cell_type": "code",
   "execution_count": 27,
   "id": "1e378179",
   "metadata": {},
   "outputs": [],
   "source": [
    "#export inactive_customer df\n",
    "inactive_customer.to_pickle(os.path.join(path, '02_Data', 'Prepared_data', 'inactive_customer.pkl'))"
   ]
  },
  {
   "cell_type": "code",
   "execution_count": 28,
   "id": "5c16150c",
   "metadata": {},
   "outputs": [],
   "source": [
    "#create active_customer df\n",
    "active_customer = df_merged[df_merged['activity']=='high']"
   ]
  },
  {
   "cell_type": "code",
   "execution_count": 29,
   "id": "37c1967e",
   "metadata": {},
   "outputs": [
    {
     "data": {
      "text/plain": [
       "high    30964564\n",
       "Name: activity, dtype: int64"
      ]
     },
     "execution_count": 29,
     "metadata": {},
     "output_type": "execute_result"
    }
   ],
   "source": [
    "active_customer['activity'].value_counts(dropna=False)"
   ]
  },
  {
   "cell_type": "code",
   "execution_count": 30,
   "id": "6d7c4f06",
   "metadata": {},
   "outputs": [],
   "source": [
    "#del pervious df for memory usage, and only using active_customer df from now on\n",
    "del inactive_customer\n",
    "del df_merged\n",
    "del ords_prods_customer_merge"
   ]
  },
  {
   "cell_type": "code",
   "execution_count": 31,
   "id": "2b5b695c",
   "metadata": {},
   "outputs": [],
   "source": [
    "#5 Create a profiling variable based on age, income, certain goods in the “department_id” column, and number of dependents"
   ]
  },
  {
   "cell_type": "code",
   "execution_count": 32,
   "id": "dd496633",
   "metadata": {},
   "outputs": [
    {
     "data": {
      "text/plain": [
       "older     12508298\n",
       "middle     9717461\n",
       "young      8738805\n",
       "Name: age_group, dtype: int64"
      ]
     },
     "execution_count": 32,
     "metadata": {},
     "output_type": "execute_result"
    }
   ],
   "source": [
    "#5a age profiling and frequency check \n",
    "active_customer.loc[active_customer['age']<=35, 'age_group']= 'young'\n",
    "active_customer.loc[active_customer['age']>55, 'age_group']= 'older'\n",
    "active_customer.loc[(active_customer['age']>35) & (active_customer['age']<=55), 'age_group']= 'middle'\n",
    "active_customer['age_group'].value_counts(dropna=False)"
   ]
  },
  {
   "cell_type": "code",
   "execution_count": 34,
   "id": "338520ae",
   "metadata": {},
   "outputs": [
    {
     "data": {
      "text/plain": [
       "middle income    14470856\n",
       "high income      12304528\n",
       "low income        4189180\n",
       "Name: income_group, dtype: int64"
      ]
     },
     "execution_count": 34,
     "metadata": {},
     "output_type": "execute_result"
    }
   ],
   "source": [
    "#5b income profiling and frequency check, based on google, low income is consider income < $54,000 per year in US, and high income is cosidered >$107,000 per year\n",
    "active_customer.loc[active_customer['income']<54000, 'income_group']= 'low income'\n",
    "active_customer.loc[active_customer['income']>=107000, 'income_group']= 'high income'\n",
    "active_customer.loc[(active_customer['income']>=54000) & (active_customer['income']<107000), 'income_group']= 'middle income'\n",
    "active_customer['income_group'].value_counts(dropna=False)"
   ]
  },
  {
   "cell_type": "code",
   "execution_count": 35,
   "id": "2788505d",
   "metadata": {},
   "outputs": [
    {
     "data": {
      "text/plain": [
       "has dependants    23224883\n",
       "no dependants      7739681\n",
       "Name: dependant_group, dtype: int64"
      ]
     },
     "execution_count": 35,
     "metadata": {},
     "output_type": "execute_result"
    }
   ],
   "source": [
    "#5c dependants profiling \n",
    "active_customer.loc[active_customer['num_of_dependants']>0, 'dependant_group']= 'has dependants'\n",
    "active_customer.loc[active_customer['num_of_dependants']==0, 'dependant_group']= 'no dependants'\n",
    "active_customer['dependant_group'].value_counts(dropna=False)"
   ]
  },
  {
   "cell_type": "code",
   "execution_count": 36,
   "id": "d91645be",
   "metadata": {},
   "outputs": [
    {
     "data": {
      "text/plain": [
       "produce            9079273\n",
       "dairy eggs         5177182\n",
       "snacks             2766406\n",
       "beverages          2571901\n",
       "frozen             2121731\n",
       "pantry             1782705\n",
       "bakery             1120828\n",
       "canned goods       1012074\n",
       "deli               1003834\n",
       "dry goods pasta     822136\n",
       "household           699857\n",
       "meat seafood        674781\n",
       "breakfast           670850\n",
       "personal care       424306\n",
       "babies              410392\n",
       "international       255991\n",
       "alcohol             144627\n",
       "pets                 93060\n",
       "missing              64768\n",
       "other                34411\n",
       "bulk                 33451\n",
       "Name: department, dtype: int64"
      ]
     },
     "execution_count": 36,
     "metadata": {},
     "output_type": "execute_result"
    }
   ],
   "source": [
    "#certain food in the department profiling \n",
    "active_customer['department'].value_counts(dropna=False)"
   ]
  },
  {
   "cell_type": "code",
   "execution_count": 42,
   "id": "254a5f15",
   "metadata": {},
   "outputs": [
    {
     "data": {
      "text/plain": [
       "0    21154311\n",
       "1     9810253\n",
       "Name: baby_status, dtype: int64"
      ]
     },
     "execution_count": 42,
     "metadata": {},
     "output_type": "execute_result"
    }
   ],
   "source": [
    "#Creating flags for bought baby stuff(1)/didn't buy baby stuff (0)\n",
    "active_customer['baby_status'] = [1 if x == 'babies' else 0 for x in active_customer['department']]\n",
    "active_customer['baby_status']=active_customer.groupby(['customer_id'])['baby_status'].transform(np.max)\n",
    "active_customer['baby_status'].value_counts(dropna=False)"
   ]
  },
  {
   "cell_type": "code",
   "execution_count": 43,
   "id": "f067272b",
   "metadata": {},
   "outputs": [
    {
     "data": {
      "text/plain": [
       "0    27513213\n",
       "1     3451351\n",
       "Name: pet_status, dtype: int64"
      ]
     },
     "execution_count": 43,
     "metadata": {},
     "output_type": "execute_result"
    }
   ],
   "source": [
    "#Creating flag for: has a pet(1)/doesn't have pets(0).\n",
    "active_customer['pet_status']=[1 if x=='pets' else 0 for x in active_customer['department']]\n",
    "active_customer['pet_status']=active_customer.groupby(['customer_id'])['pet_status'].transform(np.max)\n",
    "active_customer['pet_status'].value_counts(dropna=False)"
   ]
  },
  {
   "cell_type": "code",
   "execution_count": 45,
   "id": "ba3075fe",
   "metadata": {},
   "outputs": [
    {
     "data": {
      "text/plain": [
       "0    28634074\n",
       "1     2330490\n",
       "Name: alcohol_status, dtype: int64"
      ]
     },
     "execution_count": 45,
     "metadata": {},
     "output_type": "execute_result"
    }
   ],
   "source": [
    "#Creating a flag for: alcohol drinker(1)/not drinker(0).\n",
    "active_customer['alcohol_status']=[1 if x=='alcohol' else 0 for x in active_customer['department']]\n",
    "active_customer['alcohol_status']=active_customer.groupby(['customer_id'])['alcohol_status'].transform(np.max)\n",
    "active_customer['alcohol_status'].value_counts(dropna=False)"
   ]
  },
  {
   "cell_type": "code",
   "execution_count": 46,
   "id": "9d3b32b6",
   "metadata": {},
   "outputs": [
    {
     "data": {
      "text/plain": [
       "Index(['order_id', 'customer_id', 'order_number', 'order_day_of_week',\n",
       "       'order_hour_of_day', 'days_since_prior_order', 'product_id',\n",
       "       'add_to_cart_order', 'reordered', '_merge', 'product_name', 'aisle_id',\n",
       "       'department_id', 'prices', 'price_range_loc', 'busiest_day',\n",
       "       'busiest_period_of_day', 'max_order', 'loyalty_flag', 'avg_price',\n",
       "       'Spending_flag', 'median_order_duration', 'frequency_flag',\n",
       "       'first_name', 'last_name', 'gender', 'state', 'age', 'date_joined',\n",
       "       'num_of_dependants', 'marital_status', 'income', 'region', 'department',\n",
       "       'activity', 'age_group', 'income_group', 'dependant_group',\n",
       "       'baby_status', 'pet_status', 'alcohol_status'],\n",
       "      dtype='object')"
      ]
     },
     "execution_count": 46,
     "metadata": {},
     "output_type": "execute_result"
    }
   ],
   "source": [
    "active_customer.columns"
   ]
  },
  {
   "cell_type": "code",
   "execution_count": 47,
   "id": "64f3960d",
   "metadata": {},
   "outputs": [],
   "source": [
    "#export dataframe\n",
    "active_customer.to_pickle(os.path.join(path, '02_Data', 'Prepared_data', 'active_customer.pkl'))"
   ]
  },
  {
   "cell_type": "code",
   "execution_count": 48,
   "id": "59377b53",
   "metadata": {},
   "outputs": [],
   "source": [
    "#6 Create appropriate visulization "
   ]
  },
  {
   "cell_type": "code",
   "execution_count": 55,
   "id": "d1095cc5",
   "metadata": {},
   "outputs": [],
   "source": [
    "#set a subset of unique customer \n",
    "unique_customer = active_customer.drop_duplicates(subset=['customer_id'])"
   ]
  },
  {
   "cell_type": "code",
   "execution_count": 54,
   "id": "73f207e2",
   "metadata": {},
   "outputs": [
    {
     "data": {
      "text/plain": [
       "(162631, 41)"
      ]
     },
     "execution_count": 54,
     "metadata": {},
     "output_type": "execute_result"
    }
   ],
   "source": [
    "unique_customer.shape"
   ]
  },
  {
   "cell_type": "code",
   "execution_count": 58,
   "id": "d5f1335c",
   "metadata": {},
   "outputs": [
    {
     "data": {
      "text/plain": [
       "Text(0, 0.5, 'number of customers')"
      ]
     },
     "execution_count": 58,
     "metadata": {},
     "output_type": "execute_result"
    },
    {
     "data": {
      "image/png": "[encoded data removed]",
      "text/plain": [
       "<Figure size 432x288 with 1 Axes>"
      ]
     },
     "metadata": {
      "needs_background": "light"
     },
     "output_type": "display_data"
    }
   ],
   "source": [
    "#6a create a bar chart for age distribution \n",
    "bar_aging = unique_customer['age_group'].value_counts().sort_index().plot.bar(color = '#FF0000', fontsize=20)\n",
    "plt.title('Customer Age Distribution', fontsize=30)\n",
    "plt.xlabel('age group', fontsize=20)\n",
    "plt.ylabel('number of customers', fontsize=20)"
   ]
  },
  {
   "cell_type": "code",
   "execution_count": 68,
   "id": "bfb3f078",
   "metadata": {},
   "outputs": [
    {
     "data": {
      "text/plain": [
       "Text(0, 0.5, 'number of customers')"
      ]
     },
     "execution_count": 68,
     "metadata": {},
     "output_type": "execute_result"
    },
    {
     "data": {
      "image/png": "[encoded data removed]",
      "text/plain": [
       "<Figure size 2016x1080 with 1 Axes>"
      ]
     },
     "metadata": {},
     "output_type": "display_data"
    }
   ],
   "source": [
    "#6b create a histogram of customers income\n",
    "sns.set(rc = {'figure.figsize':(28,15)})\n",
    "hist_income = unique_customer['income'].plot.hist(bins=20, color='#4690b7', fontsize = 20)\n",
    "plt.title('Customer Income Distribution', fontsize=30)\n",
    "plt.xlabel('income', fontsize=20)\n",
    "plt.ylabel('number of customers', fontsize=20)"
   ]
  },
  {
   "cell_type": "code",
   "execution_count": 69,
   "id": "33ab31ee",
   "metadata": {},
   "outputs": [
    {
     "data": {
      "text/html": [
       "<div>\n",
       "<style scoped>\n",
       "    .dataframe tbody tr th:only-of-type {\n",
       "        vertical-align: middle;\n",
       "    }\n",
       "\n",
       "    .dataframe tbody tr th {\n",
       "        vertical-align: top;\n",
       "    }\n",
       "\n",
       "    .dataframe thead th {\n",
       "        text-align: right;\n",
       "    }\n",
       "</style>\n",
       "<table border=\"1\" class=\"dataframe\">\n",
       "  <thead>\n",
       "    <tr style=\"text-align: right;\">\n",
       "      <th>dependant_group</th>\n",
       "      <th>has dependants</th>\n",
       "      <th>no dependants</th>\n",
       "    </tr>\n",
       "    <tr>\n",
       "      <th>marital_status</th>\n",
       "      <th></th>\n",
       "      <th></th>\n",
       "    </tr>\n",
       "  </thead>\n",
       "  <tbody>\n",
       "    <tr>\n",
       "      <th>divorced/widowed</th>\n",
       "      <td>0</td>\n",
       "      <td>13831</td>\n",
       "    </tr>\n",
       "    <tr>\n",
       "      <th>living with parents and siblings</th>\n",
       "      <td>7608</td>\n",
       "      <td>0</td>\n",
       "    </tr>\n",
       "    <tr>\n",
       "      <th>married</th>\n",
       "      <td>114296</td>\n",
       "      <td>0</td>\n",
       "    </tr>\n",
       "    <tr>\n",
       "      <th>single</th>\n",
       "      <td>0</td>\n",
       "      <td>26896</td>\n",
       "    </tr>\n",
       "  </tbody>\n",
       "</table>\n",
       "</div>"
      ],
      "text/plain": [
       "dependant_group                   has dependants  no dependants\n",
       "marital_status                                                 \n",
       "divorced/widowed                               0          13831\n",
       "living with parents and siblings            7608              0\n",
       "married                                   114296              0\n",
       "single                                         0          26896"
      ]
     },
     "execution_count": 69,
     "metadata": {},
     "output_type": "execute_result"
    }
   ],
   "source": [
    "#6c dependants profiling\n",
    "#create a crosstab for dependants and marital_status\n",
    "dependant_crosstab = pd.crosstab(unique_customer['marital_status'], unique_customer['dependant_group'])\n",
    "dependant_crosstab"
   ]
  },
  {
   "cell_type": "code",
   "execution_count": 71,
   "id": "5e294879",
   "metadata": {},
   "outputs": [
    {
     "data": {
      "text/plain": [
       "<matplotlib.legend.Legend at 0x7f80159298b0>"
      ]
     },
     "execution_count": 71,
     "metadata": {},
     "output_type": "execute_result"
    },
    {
     "data": {
      "image/png": "[encoded data removed]",
      "text/plain": [
       "<Figure size 2016x1080 with 1 Axes>"
      ]
     },
     "metadata": {},
     "output_type": "display_data"
    }
   ],
   "source": [
    "#create a bar chart for the crosstab\n",
    "bar_dependant_crosstab = dependant_crosstab.plot.barh(color=['red','orange'], fontsize = 20)\n",
    "plt.title('Martial Status and Dependants', fontsize=30)\n",
    "plt.xlabel('number of customers', fontsize=20)\n",
    "plt.ylabel('marital status', fontsize=20)\n",
    "plt.legend(fontsize=20)"
   ]
  },
  {
   "cell_type": "code",
   "execution_count": 72,
   "id": "0cf03da2",
   "metadata": {},
   "outputs": [
    {
     "data": {
      "text/html": [
       "<div>\n",
       "<style scoped>\n",
       "    .dataframe tbody tr th:only-of-type {\n",
       "        vertical-align: middle;\n",
       "    }\n",
       "\n",
       "    .dataframe tbody tr th {\n",
       "        vertical-align: top;\n",
       "    }\n",
       "\n",
       "    .dataframe thead th {\n",
       "        text-align: right;\n",
       "    }\n",
       "</style>\n",
       "<table border=\"1\" class=\"dataframe\">\n",
       "  <thead>\n",
       "    <tr style=\"text-align: right;\">\n",
       "      <th>baby_status</th>\n",
       "      <th>0</th>\n",
       "      <th>1</th>\n",
       "    </tr>\n",
       "    <tr>\n",
       "      <th>marital_status</th>\n",
       "      <th></th>\n",
       "      <th></th>\n",
       "    </tr>\n",
       "  </thead>\n",
       "  <tbody>\n",
       "    <tr>\n",
       "      <th>divorced/widowed</th>\n",
       "      <td>11209</td>\n",
       "      <td>2622</td>\n",
       "    </tr>\n",
       "    <tr>\n",
       "      <th>living with parents and siblings</th>\n",
       "      <td>6204</td>\n",
       "      <td>1404</td>\n",
       "    </tr>\n",
       "    <tr>\n",
       "      <th>married</th>\n",
       "      <td>93047</td>\n",
       "      <td>21249</td>\n",
       "    </tr>\n",
       "    <tr>\n",
       "      <th>single</th>\n",
       "      <td>21941</td>\n",
       "      <td>4955</td>\n",
       "    </tr>\n",
       "  </tbody>\n",
       "</table>\n",
       "</div>"
      ],
      "text/plain": [
       "baby_status                           0      1\n",
       "marital_status                                \n",
       "divorced/widowed                  11209   2622\n",
       "living with parents and siblings   6204   1404\n",
       "married                           93047  21249\n",
       "single                            21941   4955"
      ]
     },
     "execution_count": 72,
     "metadata": {},
     "output_type": "execute_result"
    }
   ],
   "source": [
    "#6d baby stuff \n",
    "#create a crosstab for baby stuff and marital_status\n",
    "babystuff_crosstab = pd.crosstab(unique_customer['marital_status'], unique_customer['baby_status'])\n",
    "babystuff_crosstab"
   ]
  },
  {
   "cell_type": "code",
   "execution_count": 73,
   "id": "ce4aca7b",
   "metadata": {},
   "outputs": [],
   "source": [
    "#we can see from the crosstab that people buys baby stuff disregrad their marital status, so we can infer that people will buy baby stuff (maybe as a gift) even their dont have kids"
   ]
  },
  {
   "cell_type": "code",
   "execution_count": 74,
   "id": "11ce37da",
   "metadata": {},
   "outputs": [
    {
     "data": {
      "image/png": "[encoded data removed]",
      "text/plain": [
       "<Figure size 2016x1080 with 1 Axes>"
      ]
     },
     "metadata": {},
     "output_type": "display_data"
    }
   ],
   "source": [
    "#create a pie chart for the customer who brought baby stuff and for those who did not buy baby stuff\n",
    "pie_baby = unique_customer['baby_status'].value_counts().plot.pie(label='', labels=['never bought baby stuff', 'bought baby stuff before'],autopct=('%1.f%%'), colors=['red','orange'], textprops={'fontsize': 20})"
   ]
  },
  {
   "cell_type": "code",
   "execution_count": 75,
   "id": "b105fdaa",
   "metadata": {},
   "outputs": [
    {
     "data": {
      "image/png": "[encoded data removed]",
      "text/plain": [
       "<Figure size 2016x1080 with 1 Axes>"
      ]
     },
     "metadata": {},
     "output_type": "display_data"
    }
   ],
   "source": [
    "#create a pie chart for the customer who brought pet stuff and for those who did not buy pet stuff\n",
    "pie_pet = unique_customer['pet_status'].value_counts().plot.pie(label='', labels=['never bought pet stuff', 'bought pet stuff before'],autopct=('%1.f%%'), colors=['red','orange'], textprops={'fontsize': 20})"
   ]
  },
  {
   "cell_type": "code",
   "execution_count": 76,
   "id": "9afdf9d3",
   "metadata": {},
   "outputs": [
    {
     "data": {
      "image/png": "[encoded data removed]",
      "text/plain": [
       "<Figure size 2016x1080 with 1 Axes>"
      ]
     },
     "metadata": {},
     "output_type": "display_data"
    }
   ],
   "source": [
    "#create a pie chart for the customer who brought alcohol and for those who did not buy alcohol\n",
    "pie_alcohol = unique_customer['alcohol_status'].value_counts().plot.pie(label='', labels=['never bought alcohol', 'bought alcohol before'],autopct=('%1.f%%'), colors=['red','orange'], textprops={'fontsize': 20})"
   ]
  },
  {
   "cell_type": "code",
   "execution_count": 77,
   "id": "282158ab",
   "metadata": {},
   "outputs": [],
   "source": [
    "#7 Aggregate the max, mean, and min variables on a customer-profile level for usage frequency and expenditure."
   ]
  },
  {
   "cell_type": "code",
   "execution_count": 80,
   "id": "70b202a7",
   "metadata": {},
   "outputs": [
    {
     "data": {
      "text/html": [
       "<div>\n",
       "<style scoped>\n",
       "    .dataframe tbody tr th:only-of-type {\n",
       "        vertical-align: middle;\n",
       "    }\n",
       "\n",
       "    .dataframe tbody tr th {\n",
       "        vertical-align: top;\n",
       "    }\n",
       "\n",
       "    .dataframe thead tr th {\n",
       "        text-align: left;\n",
       "    }\n",
       "\n",
       "    .dataframe thead tr:last-of-type th {\n",
       "        text-align: right;\n",
       "    }\n",
       "</style>\n",
       "<table border=\"1\" class=\"dataframe\">\n",
       "  <thead>\n",
       "    <tr>\n",
       "      <th></th>\n",
       "      <th colspan=\"3\" halign=\"left\">median_order_duration</th>\n",
       "      <th colspan=\"3\" halign=\"left\">prices</th>\n",
       "    </tr>\n",
       "    <tr>\n",
       "      <th></th>\n",
       "      <th>mean</th>\n",
       "      <th>min</th>\n",
       "      <th>max</th>\n",
       "      <th>mean</th>\n",
       "      <th>min</th>\n",
       "      <th>max</th>\n",
       "    </tr>\n",
       "    <tr>\n",
       "      <th>age_group</th>\n",
       "      <th></th>\n",
       "      <th></th>\n",
       "      <th></th>\n",
       "      <th></th>\n",
       "      <th></th>\n",
       "      <th></th>\n",
       "    </tr>\n",
       "  </thead>\n",
       "  <tbody>\n",
       "    <tr>\n",
       "      <th>middle</th>\n",
       "      <td>13.757527</td>\n",
       "      <td>0.0</td>\n",
       "      <td>30.0</td>\n",
       "      <td>7.638671</td>\n",
       "      <td>1.0</td>\n",
       "      <td>15.0</td>\n",
       "    </tr>\n",
       "    <tr>\n",
       "      <th>older</th>\n",
       "      <td>13.755983</td>\n",
       "      <td>0.0</td>\n",
       "      <td>30.0</td>\n",
       "      <td>7.610490</td>\n",
       "      <td>1.0</td>\n",
       "      <td>19.4</td>\n",
       "    </tr>\n",
       "    <tr>\n",
       "      <th>young</th>\n",
       "      <td>13.781753</td>\n",
       "      <td>0.0</td>\n",
       "      <td>30.0</td>\n",
       "      <td>7.612501</td>\n",
       "      <td>1.0</td>\n",
       "      <td>15.0</td>\n",
       "    </tr>\n",
       "  </tbody>\n",
       "</table>\n",
       "</div>"
      ],
      "text/plain": [
       "          median_order_duration               prices           \n",
       "                           mean  min   max      mean  min   max\n",
       "age_group                                                      \n",
       "middle                13.757527  0.0  30.0  7.638671  1.0  15.0\n",
       "older                 13.755983  0.0  30.0  7.610490  1.0  19.4\n",
       "young                 13.781753  0.0  30.0  7.612501  1.0  15.0"
      ]
     },
     "execution_count": 80,
     "metadata": {},
     "output_type": "execute_result"
    }
   ],
   "source": [
    "#7a age aggregation\n",
    "unique_customer.groupby(['age_group']).agg({'median_order_duration':['mean', 'min', 'max'], 'prices':['mean', 'min', 'max']})"
   ]
  },
  {
   "cell_type": "code",
   "execution_count": 81,
   "id": "2d6bcdd4",
   "metadata": {},
   "outputs": [
    {
     "data": {
      "text/html": [
       "<div>\n",
       "<style scoped>\n",
       "    .dataframe tbody tr th:only-of-type {\n",
       "        vertical-align: middle;\n",
       "    }\n",
       "\n",
       "    .dataframe tbody tr th {\n",
       "        vertical-align: top;\n",
       "    }\n",
       "\n",
       "    .dataframe thead tr th {\n",
       "        text-align: left;\n",
       "    }\n",
       "\n",
       "    .dataframe thead tr:last-of-type th {\n",
       "        text-align: right;\n",
       "    }\n",
       "</style>\n",
       "<table border=\"1\" class=\"dataframe\">\n",
       "  <thead>\n",
       "    <tr>\n",
       "      <th></th>\n",
       "      <th colspan=\"3\" halign=\"left\">median_order_duration</th>\n",
       "      <th colspan=\"3\" halign=\"left\">prices</th>\n",
       "    </tr>\n",
       "    <tr>\n",
       "      <th></th>\n",
       "      <th>mean</th>\n",
       "      <th>min</th>\n",
       "      <th>max</th>\n",
       "      <th>mean</th>\n",
       "      <th>min</th>\n",
       "      <th>max</th>\n",
       "    </tr>\n",
       "    <tr>\n",
       "      <th>income_group</th>\n",
       "      <th></th>\n",
       "      <th></th>\n",
       "      <th></th>\n",
       "      <th></th>\n",
       "      <th></th>\n",
       "      <th></th>\n",
       "    </tr>\n",
       "  </thead>\n",
       "  <tbody>\n",
       "    <tr>\n",
       "      <th>high income</th>\n",
       "      <td>13.534094</td>\n",
       "      <td>0.0</td>\n",
       "      <td>30.0</td>\n",
       "      <td>7.787977</td>\n",
       "      <td>1.0</td>\n",
       "      <td>19.4</td>\n",
       "    </tr>\n",
       "    <tr>\n",
       "      <th>low income</th>\n",
       "      <td>14.602374</td>\n",
       "      <td>0.0</td>\n",
       "      <td>30.0</td>\n",
       "      <td>6.936526</td>\n",
       "      <td>1.0</td>\n",
       "      <td>15.0</td>\n",
       "    </tr>\n",
       "    <tr>\n",
       "      <th>middle income</th>\n",
       "      <td>13.609492</td>\n",
       "      <td>0.0</td>\n",
       "      <td>30.0</td>\n",
       "      <td>7.761605</td>\n",
       "      <td>1.0</td>\n",
       "      <td>15.0</td>\n",
       "    </tr>\n",
       "  </tbody>\n",
       "</table>\n",
       "</div>"
      ],
      "text/plain": [
       "              median_order_duration               prices           \n",
       "                               mean  min   max      mean  min   max\n",
       "income_group                                                       \n",
       "high income               13.534094  0.0  30.0  7.787977  1.0  19.4\n",
       "low income                14.602374  0.0  30.0  6.936526  1.0  15.0\n",
       "middle income             13.609492  0.0  30.0  7.761605  1.0  15.0"
      ]
     },
     "execution_count": 81,
     "metadata": {},
     "output_type": "execute_result"
    }
   ],
   "source": [
    "#7b income aggregation\n",
    "unique_customer.groupby(['income_group']).agg({'median_order_duration':['mean', 'min', 'max'], 'prices':['mean', 'min', 'max']})"
   ]
  },
  {
   "cell_type": "code",
   "execution_count": 82,
   "id": "519202c9",
   "metadata": {},
   "outputs": [
    {
     "data": {
      "text/html": [
       "<div>\n",
       "<style scoped>\n",
       "    .dataframe tbody tr th:only-of-type {\n",
       "        vertical-align: middle;\n",
       "    }\n",
       "\n",
       "    .dataframe tbody tr th {\n",
       "        vertical-align: top;\n",
       "    }\n",
       "\n",
       "    .dataframe thead tr th {\n",
       "        text-align: left;\n",
       "    }\n",
       "\n",
       "    .dataframe thead tr:last-of-type th {\n",
       "        text-align: right;\n",
       "    }\n",
       "</style>\n",
       "<table border=\"1\" class=\"dataframe\">\n",
       "  <thead>\n",
       "    <tr>\n",
       "      <th></th>\n",
       "      <th colspan=\"3\" halign=\"left\">median_order_duration</th>\n",
       "      <th colspan=\"3\" halign=\"left\">prices</th>\n",
       "    </tr>\n",
       "    <tr>\n",
       "      <th></th>\n",
       "      <th>mean</th>\n",
       "      <th>min</th>\n",
       "      <th>max</th>\n",
       "      <th>mean</th>\n",
       "      <th>min</th>\n",
       "      <th>max</th>\n",
       "    </tr>\n",
       "    <tr>\n",
       "      <th>dependant_group</th>\n",
       "      <th></th>\n",
       "      <th></th>\n",
       "      <th></th>\n",
       "      <th></th>\n",
       "      <th></th>\n",
       "      <th></th>\n",
       "    </tr>\n",
       "  </thead>\n",
       "  <tbody>\n",
       "    <tr>\n",
       "      <th>has dependants</th>\n",
       "      <td>13.762157</td>\n",
       "      <td>0.0</td>\n",
       "      <td>30.0</td>\n",
       "      <td>7.624134</td>\n",
       "      <td>1.0</td>\n",
       "      <td>19.4</td>\n",
       "    </tr>\n",
       "    <tr>\n",
       "      <th>no dependants</th>\n",
       "      <td>13.768348</td>\n",
       "      <td>0.0</td>\n",
       "      <td>30.0</td>\n",
       "      <td>7.607230</td>\n",
       "      <td>1.0</td>\n",
       "      <td>15.0</td>\n",
       "    </tr>\n",
       "  </tbody>\n",
       "</table>\n",
       "</div>"
      ],
      "text/plain": [
       "                median_order_duration               prices           \n",
       "                                 mean  min   max      mean  min   max\n",
       "dependant_group                                                      \n",
       "has dependants              13.762157  0.0  30.0  7.624134  1.0  19.4\n",
       "no dependants               13.768348  0.0  30.0  7.607230  1.0  15.0"
      ]
     },
     "execution_count": 82,
     "metadata": {},
     "output_type": "execute_result"
    }
   ],
   "source": [
    "#7c dependant group aggregation \n",
    "unique_customer.groupby(['dependant_group']).agg({'median_order_duration':['mean', 'min', 'max'], 'prices':['mean', 'min', 'max']})"
   ]
  },
  {
   "cell_type": "code",
   "execution_count": 83,
   "id": "e250c780",
   "metadata": {},
   "outputs": [
    {
     "data": {
      "text/html": [
       "<div>\n",
       "<style scoped>\n",
       "    .dataframe tbody tr th:only-of-type {\n",
       "        vertical-align: middle;\n",
       "    }\n",
       "\n",
       "    .dataframe tbody tr th {\n",
       "        vertical-align: top;\n",
       "    }\n",
       "\n",
       "    .dataframe thead tr th {\n",
       "        text-align: left;\n",
       "    }\n",
       "\n",
       "    .dataframe thead tr:last-of-type th {\n",
       "        text-align: right;\n",
       "    }\n",
       "</style>\n",
       "<table border=\"1\" class=\"dataframe\">\n",
       "  <thead>\n",
       "    <tr>\n",
       "      <th></th>\n",
       "      <th colspan=\"3\" halign=\"left\">median_order_duration</th>\n",
       "      <th colspan=\"3\" halign=\"left\">prices</th>\n",
       "    </tr>\n",
       "    <tr>\n",
       "      <th></th>\n",
       "      <th>mean</th>\n",
       "      <th>min</th>\n",
       "      <th>max</th>\n",
       "      <th>mean</th>\n",
       "      <th>min</th>\n",
       "      <th>max</th>\n",
       "    </tr>\n",
       "    <tr>\n",
       "      <th>baby_status</th>\n",
       "      <th></th>\n",
       "      <th></th>\n",
       "      <th></th>\n",
       "      <th></th>\n",
       "      <th></th>\n",
       "      <th></th>\n",
       "    </tr>\n",
       "  </thead>\n",
       "  <tbody>\n",
       "    <tr>\n",
       "      <th>0</th>\n",
       "      <td>14.314280</td>\n",
       "      <td>0.0</td>\n",
       "      <td>30.0</td>\n",
       "      <td>7.621146</td>\n",
       "      <td>1.0</td>\n",
       "      <td>19.4</td>\n",
       "    </tr>\n",
       "    <tr>\n",
       "      <th>1</th>\n",
       "      <td>11.352316</td>\n",
       "      <td>0.0</td>\n",
       "      <td>30.0</td>\n",
       "      <td>7.614446</td>\n",
       "      <td>1.0</td>\n",
       "      <td>15.0</td>\n",
       "    </tr>\n",
       "  </tbody>\n",
       "</table>\n",
       "</div>"
      ],
      "text/plain": [
       "            median_order_duration               prices           \n",
       "                             mean  min   max      mean  min   max\n",
       "baby_status                                                      \n",
       "0                       14.314280  0.0  30.0  7.621146  1.0  19.4\n",
       "1                       11.352316  0.0  30.0  7.614446  1.0  15.0"
      ]
     },
     "execution_count": 83,
     "metadata": {},
     "output_type": "execute_result"
    }
   ],
   "source": [
    "#7d baby stuff aggregation, baby status 0 = didn't buy baby, baby status 1= bought baby stuff\n",
    "unique_customer.groupby(['baby_status']).agg({'median_order_duration':['mean', 'min', 'max'], 'prices':['mean', 'min', 'max']})"
   ]
  },
  {
   "cell_type": "code",
   "execution_count": 85,
   "id": "a6e28ef4",
   "metadata": {},
   "outputs": [
    {
     "data": {
      "text/html": [
       "<div>\n",
       "<style scoped>\n",
       "    .dataframe tbody tr th:only-of-type {\n",
       "        vertical-align: middle;\n",
       "    }\n",
       "\n",
       "    .dataframe tbody tr th {\n",
       "        vertical-align: top;\n",
       "    }\n",
       "\n",
       "    .dataframe thead tr th {\n",
       "        text-align: left;\n",
       "    }\n",
       "\n",
       "    .dataframe thead tr:last-of-type th {\n",
       "        text-align: right;\n",
       "    }\n",
       "</style>\n",
       "<table border=\"1\" class=\"dataframe\">\n",
       "  <thead>\n",
       "    <tr>\n",
       "      <th></th>\n",
       "      <th colspan=\"3\" halign=\"left\">median_order_duration</th>\n",
       "      <th colspan=\"3\" halign=\"left\">prices</th>\n",
       "    </tr>\n",
       "    <tr>\n",
       "      <th></th>\n",
       "      <th>mean</th>\n",
       "      <th>min</th>\n",
       "      <th>max</th>\n",
       "      <th>mean</th>\n",
       "      <th>min</th>\n",
       "      <th>max</th>\n",
       "    </tr>\n",
       "    <tr>\n",
       "      <th>pet_status</th>\n",
       "      <th></th>\n",
       "      <th></th>\n",
       "      <th></th>\n",
       "      <th></th>\n",
       "      <th></th>\n",
       "      <th></th>\n",
       "    </tr>\n",
       "  </thead>\n",
       "  <tbody>\n",
       "    <tr>\n",
       "      <th>0</th>\n",
       "      <td>13.882330</td>\n",
       "      <td>0.0</td>\n",
       "      <td>30.0</td>\n",
       "      <td>7.608304</td>\n",
       "      <td>1.0</td>\n",
       "      <td>19.4</td>\n",
       "    </tr>\n",
       "    <tr>\n",
       "      <th>1</th>\n",
       "      <td>12.418065</td>\n",
       "      <td>0.0</td>\n",
       "      <td>30.0</td>\n",
       "      <td>7.751461</td>\n",
       "      <td>1.0</td>\n",
       "      <td>15.0</td>\n",
       "    </tr>\n",
       "  </tbody>\n",
       "</table>\n",
       "</div>"
      ],
      "text/plain": [
       "           median_order_duration               prices           \n",
       "                            mean  min   max      mean  min   max\n",
       "pet_status                                                      \n",
       "0                      13.882330  0.0  30.0  7.608304  1.0  19.4\n",
       "1                      12.418065  0.0  30.0  7.751461  1.0  15.0"
      ]
     },
     "execution_count": 85,
     "metadata": {},
     "output_type": "execute_result"
    }
   ],
   "source": [
    "#7e pet stuff aggregation, pet status 0 = didn't buy pet stuff, pet status 1= bought pet stuff\n",
    "unique_customer.groupby(['pet_status']).agg({'median_order_duration':['mean', 'min', 'max'], 'prices':['mean', 'min', 'max']})"
   ]
  },
  {
   "cell_type": "code",
   "execution_count": 86,
   "id": "353a1775",
   "metadata": {},
   "outputs": [
    {
     "data": {
      "text/html": [
       "<div>\n",
       "<style scoped>\n",
       "    .dataframe tbody tr th:only-of-type {\n",
       "        vertical-align: middle;\n",
       "    }\n",
       "\n",
       "    .dataframe tbody tr th {\n",
       "        vertical-align: top;\n",
       "    }\n",
       "\n",
       "    .dataframe thead tr th {\n",
       "        text-align: left;\n",
       "    }\n",
       "\n",
       "    .dataframe thead tr:last-of-type th {\n",
       "        text-align: right;\n",
       "    }\n",
       "</style>\n",
       "<table border=\"1\" class=\"dataframe\">\n",
       "  <thead>\n",
       "    <tr>\n",
       "      <th></th>\n",
       "      <th colspan=\"3\" halign=\"left\">median_order_duration</th>\n",
       "      <th colspan=\"3\" halign=\"left\">prices</th>\n",
       "    </tr>\n",
       "    <tr>\n",
       "      <th></th>\n",
       "      <th>mean</th>\n",
       "      <th>min</th>\n",
       "      <th>max</th>\n",
       "      <th>mean</th>\n",
       "      <th>min</th>\n",
       "      <th>max</th>\n",
       "    </tr>\n",
       "    <tr>\n",
       "      <th>alcohol_status</th>\n",
       "      <th></th>\n",
       "      <th></th>\n",
       "      <th></th>\n",
       "      <th></th>\n",
       "      <th></th>\n",
       "      <th></th>\n",
       "    </tr>\n",
       "  </thead>\n",
       "  <tbody>\n",
       "    <tr>\n",
       "      <th>0</th>\n",
       "      <td>13.838614</td>\n",
       "      <td>0.0</td>\n",
       "      <td>30.0</td>\n",
       "      <td>7.616542</td>\n",
       "      <td>1.0</td>\n",
       "      <td>19.4</td>\n",
       "    </tr>\n",
       "    <tr>\n",
       "      <th>1</th>\n",
       "      <td>12.912288</td>\n",
       "      <td>0.0</td>\n",
       "      <td>30.0</td>\n",
       "      <td>7.658098</td>\n",
       "      <td>1.0</td>\n",
       "      <td>15.0</td>\n",
       "    </tr>\n",
       "  </tbody>\n",
       "</table>\n",
       "</div>"
      ],
      "text/plain": [
       "               median_order_duration               prices           \n",
       "                                mean  min   max      mean  min   max\n",
       "alcohol_status                                                      \n",
       "0                          13.838614  0.0  30.0  7.616542  1.0  19.4\n",
       "1                          12.912288  0.0  30.0  7.658098  1.0  15.0"
      ]
     },
     "execution_count": 86,
     "metadata": {},
     "output_type": "execute_result"
    }
   ],
   "source": [
    "#7f alcohol aggregation,alcohol status 0 = didn't buy alcohol, alcohol status 1= bought alcohol\n",
    "unique_customer.groupby(['alcohol_status']).agg({'median_order_duration':['mean', 'min', 'max'], 'prices':['mean', 'min', 'max']})"
   ]
  },
  {
   "cell_type": "code",
   "execution_count": 90,
   "id": "496c2835",
   "metadata": {},
   "outputs": [
    {
     "data": {
      "text/html": [
       "<div>\n",
       "<style scoped>\n",
       "    .dataframe tbody tr th:only-of-type {\n",
       "        vertical-align: middle;\n",
       "    }\n",
       "\n",
       "    .dataframe tbody tr th {\n",
       "        vertical-align: top;\n",
       "    }\n",
       "\n",
       "    .dataframe thead th {\n",
       "        text-align: right;\n",
       "    }\n",
       "</style>\n",
       "<table border=\"1\" class=\"dataframe\">\n",
       "  <thead>\n",
       "    <tr style=\"text-align: right;\">\n",
       "      <th>department</th>\n",
       "      <th>alcohol</th>\n",
       "      <th>babies</th>\n",
       "      <th>bakery</th>\n",
       "      <th>beverages</th>\n",
       "      <th>breakfast</th>\n",
       "      <th>canned goods</th>\n",
       "      <th>dairy eggs</th>\n",
       "      <th>deli</th>\n",
       "      <th>dry goods pasta</th>\n",
       "      <th>frozen</th>\n",
       "      <th>household</th>\n",
       "      <th>international</th>\n",
       "      <th>meat seafood</th>\n",
       "      <th>pantry</th>\n",
       "      <th>personal care</th>\n",
       "      <th>produce</th>\n",
       "      <th>snacks</th>\n",
       "    </tr>\n",
       "    <tr>\n",
       "      <th>region</th>\n",
       "      <th></th>\n",
       "      <th></th>\n",
       "      <th></th>\n",
       "      <th></th>\n",
       "      <th></th>\n",
       "      <th></th>\n",
       "      <th></th>\n",
       "      <th></th>\n",
       "      <th></th>\n",
       "      <th></th>\n",
       "      <th></th>\n",
       "      <th></th>\n",
       "      <th></th>\n",
       "      <th></th>\n",
       "      <th></th>\n",
       "      <th></th>\n",
       "      <th></th>\n",
       "    </tr>\n",
       "  </thead>\n",
       "  <tbody>\n",
       "    <tr>\n",
       "      <th>Midwest</th>\n",
       "      <td>7</td>\n",
       "      <td>0</td>\n",
       "      <td>4</td>\n",
       "      <td>33745</td>\n",
       "      <td>2</td>\n",
       "      <td>0</td>\n",
       "      <td>4025</td>\n",
       "      <td>2</td>\n",
       "      <td>0</td>\n",
       "      <td>6</td>\n",
       "      <td>86</td>\n",
       "      <td>1</td>\n",
       "      <td>0</td>\n",
       "      <td>10</td>\n",
       "      <td>2</td>\n",
       "      <td>154</td>\n",
       "      <td>332</td>\n",
       "    </tr>\n",
       "    <tr>\n",
       "      <th>Northeaset</th>\n",
       "      <td>4</td>\n",
       "      <td>1</td>\n",
       "      <td>3</td>\n",
       "      <td>25076</td>\n",
       "      <td>3</td>\n",
       "      <td>0</td>\n",
       "      <td>3035</td>\n",
       "      <td>1</td>\n",
       "      <td>0</td>\n",
       "      <td>10</td>\n",
       "      <td>55</td>\n",
       "      <td>0</td>\n",
       "      <td>0</td>\n",
       "      <td>8</td>\n",
       "      <td>0</td>\n",
       "      <td>136</td>\n",
       "      <td>249</td>\n",
       "    </tr>\n",
       "    <tr>\n",
       "      <th>South</th>\n",
       "      <td>12</td>\n",
       "      <td>0</td>\n",
       "      <td>1</td>\n",
       "      <td>47561</td>\n",
       "      <td>4</td>\n",
       "      <td>1</td>\n",
       "      <td>5750</td>\n",
       "      <td>1</td>\n",
       "      <td>1</td>\n",
       "      <td>13</td>\n",
       "      <td>114</td>\n",
       "      <td>1</td>\n",
       "      <td>0</td>\n",
       "      <td>11</td>\n",
       "      <td>1</td>\n",
       "      <td>257</td>\n",
       "      <td>465</td>\n",
       "    </tr>\n",
       "    <tr>\n",
       "      <th>West</th>\n",
       "      <td>4</td>\n",
       "      <td>0</td>\n",
       "      <td>3</td>\n",
       "      <td>36359</td>\n",
       "      <td>2</td>\n",
       "      <td>0</td>\n",
       "      <td>4444</td>\n",
       "      <td>2</td>\n",
       "      <td>0</td>\n",
       "      <td>7</td>\n",
       "      <td>93</td>\n",
       "      <td>0</td>\n",
       "      <td>1</td>\n",
       "      <td>7</td>\n",
       "      <td>1</td>\n",
       "      <td>181</td>\n",
       "      <td>377</td>\n",
       "    </tr>\n",
       "  </tbody>\n",
       "</table>\n",
       "</div>"
      ],
      "text/plain": [
       "department  alcohol  babies  bakery  beverages  breakfast  canned goods  \\\n",
       "region                                                                    \n",
       "Midwest           7       0       4      33745          2             0   \n",
       "Northeaset        4       1       3      25076          3             0   \n",
       "South            12       0       1      47561          4             1   \n",
       "West              4       0       3      36359          2             0   \n",
       "\n",
       "department  dairy eggs  deli  dry goods pasta  frozen  household  \\\n",
       "region                                                             \n",
       "Midwest           4025     2                0       6         86   \n",
       "Northeaset        3035     1                0      10         55   \n",
       "South             5750     1                1      13        114   \n",
       "West              4444     2                0       7         93   \n",
       "\n",
       "department  international  meat seafood  pantry  personal care  produce  \\\n",
       "region                                                                    \n",
       "Midwest                 1             0      10              2      154   \n",
       "Northeaset              0             0       8              0      136   \n",
       "South                   1             0      11              1      257   \n",
       "West                    0             1       7              1      181   \n",
       "\n",
       "department  snacks  \n",
       "region              \n",
       "Midwest        332  \n",
       "Northeaset     249  \n",
       "South          465  \n",
       "West           377  "
      ]
     },
     "execution_count": 90,
     "metadata": {},
     "output_type": "execute_result"
    }
   ],
   "source": [
    "#customer profiles with regions and departments\n",
    "region_department_crosstab = pd.crosstab(unique_customer['region'], unique_customer['department'])\n",
    "region_department_crosstab"
   ]
  },
  {
   "cell_type": "code",
   "execution_count": 93,
   "id": "fda6302f",
   "metadata": {},
   "outputs": [],
   "source": [
    "#answer 8: Customers demonstrate similar behaviors across regions"
   ]
  },
  {
   "cell_type": "code",
   "execution_count": 94,
   "id": "d23bfb77",
   "metadata": {},
   "outputs": [],
   "source": [
    "#export unique customer dataframe\n",
    "unique_customer.to_pickle(os.path.join(path, '02_Data', 'Prepared_data', 'unique_customer.pkl'))"
   ]
  },
  {
   "cell_type": "code",
   "execution_count": 95,
   "id": "e6a70fb5",
   "metadata": {},
   "outputs": [],
   "source": [
    "#export chart \n",
    "bar_aging.figure.savefig(os.path.join(path, '04_Analysis', 'Visualizations', 'bar_aging_10.png'))"
   ]
  },
  {
   "cell_type": "code",
   "execution_count": 96,
   "id": "0265b29f",
   "metadata": {},
   "outputs": [],
   "source": [
    "hist_income.figure.savefig(os.path.join(path, '04_Analysis', 'Visualizations', 'hist_income_10.png'))"
   ]
  },
  {
   "cell_type": "code",
   "execution_count": 97,
   "id": "d6b1edd6",
   "metadata": {},
   "outputs": [],
   "source": [
    "bar_dependant_crosstab.figure.savefig(os.path.join(path, '04_Analysis', 'Visualizations', 'dependant_crosstab.png'))"
   ]
  },
  {
   "cell_type": "code",
   "execution_count": 98,
   "id": "717e690e",
   "metadata": {},
   "outputs": [],
   "source": [
    "pie_babypie_petpie_pet"
   ]
  },
  {
   "cell_type": "code",
   "execution_count": null,
   "id": "da07782b",
   "metadata": {},
   "outputs": [],
   "source": [
    "pie_pet"
   ]
  }
 ],
 "metadata": {
  "kernelspec": {
   "display_name": "Python 3 (ipykernel)",
   "language": "python",
   "name": "python3"
  },
  "language_info": {
   "codemirror_mode": {
    "name": "ipython",
    "version": 3
   },
   "file_extension": ".py",
   "mimetype": "text/x-python",
   "name": "python",
   "nbconvert_exporter": "python",
   "pygments_lexer": "ipython3",
   "version": "3.9.12"
  }
 },
 "nbformat": 4,
 "nbformat_minor": 5
}
